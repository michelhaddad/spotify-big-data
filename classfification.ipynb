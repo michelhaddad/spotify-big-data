{
 "cells": [
  {
   "cell_type": "code",
   "execution_count": 1,
   "metadata": {
    "collapsed": true
   },
   "outputs": [
    {
     "data": {
      "text/plain": "          artist                                             genres  \\\n0  Ariana Grande                               ['dance pop', 'pop']   \n1    Post Malone                  ['dfw rap', 'melodic rap', 'rap']   \n2       DJ Snake  ['dance pop', 'edm', 'electronic trap', 'pop',...   \n3      Bad Bunny              ['latin', 'reggaeton', 'trap latino']   \n4   Travis Scott                              ['rap', 'slap house']   \n\n   popularity  followers               artist_id  \n0          93   72091927  66CXWjxzNUsdJxJ2JdwvnR  \n1          91   34933440  246dkjvS1zLTtiykXe5h60  \n2          82    7611219  540vIaP2JwjQb9dm3aArA4  \n3          96   39969523  4q3ewBCX7sLwd24euuV69X  \n4          92   18998139  0Y5tJX1MQlPlqiwlOH1tJY  ",
      "text/html": "<div>\n<style scoped>\n    .dataframe tbody tr th:only-of-type {\n        vertical-align: middle;\n    }\n\n    .dataframe tbody tr th {\n        vertical-align: top;\n    }\n\n    .dataframe thead th {\n        text-align: right;\n    }\n</style>\n<table border=\"1\" class=\"dataframe\">\n  <thead>\n    <tr style=\"text-align: right;\">\n      <th></th>\n      <th>artist</th>\n      <th>genres</th>\n      <th>popularity</th>\n      <th>followers</th>\n      <th>artist_id</th>\n    </tr>\n  </thead>\n  <tbody>\n    <tr>\n      <th>0</th>\n      <td>Ariana Grande</td>\n      <td>['dance pop', 'pop']</td>\n      <td>93</td>\n      <td>72091927</td>\n      <td>66CXWjxzNUsdJxJ2JdwvnR</td>\n    </tr>\n    <tr>\n      <th>1</th>\n      <td>Post Malone</td>\n      <td>['dfw rap', 'melodic rap', 'rap']</td>\n      <td>91</td>\n      <td>34933440</td>\n      <td>246dkjvS1zLTtiykXe5h60</td>\n    </tr>\n    <tr>\n      <th>2</th>\n      <td>DJ Snake</td>\n      <td>['dance pop', 'edm', 'electronic trap', 'pop',...</td>\n      <td>82</td>\n      <td>7611219</td>\n      <td>540vIaP2JwjQb9dm3aArA4</td>\n    </tr>\n    <tr>\n      <th>3</th>\n      <td>Bad Bunny</td>\n      <td>['latin', 'reggaeton', 'trap latino']</td>\n      <td>96</td>\n      <td>39969523</td>\n      <td>4q3ewBCX7sLwd24euuV69X</td>\n    </tr>\n    <tr>\n      <th>4</th>\n      <td>Travis Scott</td>\n      <td>['rap', 'slap house']</td>\n      <td>92</td>\n      <td>18998139</td>\n      <td>0Y5tJX1MQlPlqiwlOH1tJY</td>\n    </tr>\n  </tbody>\n</table>\n</div>"
     },
     "execution_count": 1,
     "metadata": {},
     "output_type": "execute_result"
    }
   ],
   "source": [
    "import pandas as pd\n",
    "\n",
    "artists = pd.read_csv('data/artist_info_2019-01-01__2020-01-01.csv')\n",
    "artists.head()"
   ]
  }
 ],
 "metadata": {
  "kernelspec": {
   "display_name": "Python 3",
   "language": "python",
   "name": "python3"
  },
  "language_info": {
   "codemirror_mode": {
    "name": "ipython",
    "version": 2
   },
   "file_extension": ".py",
   "mimetype": "text/x-python",
   "name": "python",
   "nbconvert_exporter": "python",
   "pygments_lexer": "ipython2",
   "version": "2.7.6"
  }
 },
 "nbformat": 4,
 "nbformat_minor": 0
}