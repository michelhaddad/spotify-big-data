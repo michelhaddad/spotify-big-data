{
 "cells": [
  {
   "cell_type": "markdown",
   "metadata": {
    "collapsed": true,
    "pycharm": {
     "name": "#%% md\n"
    }
   },
   "source": [
    "# Creating a graph of related artists"
   ]
  },
  {
   "cell_type": "code",
   "execution_count": 2,
   "outputs": [],
   "source": [
    "import pandas as pd\n",
    "import numpy as np\n",
    "import pickle\n",
    "\n",
    "from utils.SpotifyAPICommunicator import SpotifyAPICommunicator\n",
    "from collections import defaultdict\n",
    "from queue import Queue"
   ],
   "metadata": {
    "collapsed": false,
    "pycharm": {
     "name": "#%%\n"
    }
   }
  },
  {
   "cell_type": "markdown",
   "source": [
    "## Collecting the data\n",
    "We gather all artists that appeared in the 2019 Spotify charts"
   ],
   "metadata": {
    "collapsed": false,
    "pycharm": {
     "name": "#%% md\n"
    }
   }
  },
  {
   "cell_type": "code",
   "execution_count": 3,
   "outputs": [
    {
     "data": {
      "text/plain": "           artist                                             genres  \\\n0     Tones And I                          ['australian pop', 'pop']   \n1  Arizona Zervas                    ['pop rap', 'rhode island rap']   \n2         KAROL G  ['latin', 'reggaeton', 'reggaeton colombiano',...   \n3     Post Malone                  ['dfw rap', 'melodic rap', 'rap']   \n4        Maroon 5                                ['pop', 'pop rock']   \n\n   popularity  followers               artist_id  \n0          77    2886914  2NjfBq1NflQcKSeiDooVjY  \n1          72     643706  0vRvGUQVUjytro0xpb26bs  \n2          87   20081766  790FomKkXshlbRYZFtlgla  \n3          91   35044259  246dkjvS1zLTtiykXe5h60  \n4          88   34099468  04gDigrS5kc9YWfZHwBETP  ",
      "text/html": "<div>\n<style scoped>\n    .dataframe tbody tr th:only-of-type {\n        vertical-align: middle;\n    }\n\n    .dataframe tbody tr th {\n        vertical-align: top;\n    }\n\n    .dataframe thead th {\n        text-align: right;\n    }\n</style>\n<table border=\"1\" class=\"dataframe\">\n  <thead>\n    <tr style=\"text-align: right;\">\n      <th></th>\n      <th>artist</th>\n      <th>genres</th>\n      <th>popularity</th>\n      <th>followers</th>\n      <th>artist_id</th>\n    </tr>\n  </thead>\n  <tbody>\n    <tr>\n      <th>0</th>\n      <td>Tones And I</td>\n      <td>['australian pop', 'pop']</td>\n      <td>77</td>\n      <td>2886914</td>\n      <td>2NjfBq1NflQcKSeiDooVjY</td>\n    </tr>\n    <tr>\n      <th>1</th>\n      <td>Arizona Zervas</td>\n      <td>['pop rap', 'rhode island rap']</td>\n      <td>72</td>\n      <td>643706</td>\n      <td>0vRvGUQVUjytro0xpb26bs</td>\n    </tr>\n    <tr>\n      <th>2</th>\n      <td>KAROL G</td>\n      <td>['latin', 'reggaeton', 'reggaeton colombiano',...</td>\n      <td>87</td>\n      <td>20081766</td>\n      <td>790FomKkXshlbRYZFtlgla</td>\n    </tr>\n    <tr>\n      <th>3</th>\n      <td>Post Malone</td>\n      <td>['dfw rap', 'melodic rap', 'rap']</td>\n      <td>91</td>\n      <td>35044259</td>\n      <td>246dkjvS1zLTtiykXe5h60</td>\n    </tr>\n    <tr>\n      <th>4</th>\n      <td>Maroon 5</td>\n      <td>['pop', 'pop rock']</td>\n      <td>88</td>\n      <td>34099468</td>\n      <td>04gDigrS5kc9YWfZHwBETP</td>\n    </tr>\n  </tbody>\n</table>\n</div>"
     },
     "execution_count": 3,
     "metadata": {},
     "output_type": "execute_result"
    }
   ],
   "source": [
    "artists_2020 = pd.read_csv('../data/artist_info_2020-01-01__2021-01-01.csv')\n",
    "artists_2020.head()"
   ],
   "metadata": {
    "collapsed": false,
    "pycharm": {
     "name": "#%%\n"
    }
   }
  },
  {
   "cell_type": "markdown",
   "source": [
    "### Fetching related artists"
   ],
   "metadata": {
    "collapsed": false
   }
  },
  {
   "cell_type": "code",
   "execution_count": 117,
   "outputs": [
    {
     "name": "stdout",
     "output_type": "stream",
     "text": [
      "Total number of artists: 19701\n"
     ]
    }
   ],
   "source": [
    "client_id = 'id'\n",
    "client_secret = 'secret'\n",
    "spotify_api_communicator = SpotifyAPICommunicator(client_id, client_secret)\n",
    "sp = spotify_api_communicator.get_sp()\n",
    "\n",
    "artist_ids = artists_2020['artist_id']\n",
    "\n",
    "# We already have the data for a chunk of artists (those who appeared in the top 200)\n",
    "# We need to set apart the artists we haven't encountered before to fetch their data\n",
    "artists_with_data = set(artist_id for index, artist_id in artist_ids.items())\n",
    "\n",
    "# Store the links between artists\n",
    "artist_links = defaultdict(set)\n",
    "\n",
    "# We want to gather the related artists for a maximum of 5k artists (to reduce calls to the Spotify API)\n",
    "artist_queue_limit = 5000\n",
    "artist_count = len(artist_ids)\n",
    "artist_queue = Queue()\n",
    "for index, artist_id in artist_ids.items():\n",
    "    artist_queue.put(artist_id)\n",
    "\n",
    "related_artist_info = pd.DataFrame()\n",
    "while not artist_queue.empty():\n",
    "    artist_id = artist_queue.get()\n",
    "    related_artists = sp.artist_related_artists(artist_id)['artists']\n",
    "    for related_artist in related_artists:\n",
    "        artist_links[artist_id].add(related_artist['id'])\n",
    "\n",
    "        if related_artist['id'] not in artists_with_data:\n",
    "            tmp = {'artist': related_artist['name'],\n",
    "                   'genres': related_artist['genres'], 'popularity': related_artist['popularity'],\n",
    "                   'followers': related_artist['followers']['total'], 'artist_id': related_artist['id']\n",
    "                   }\n",
    "            related_artist_info = related_artist_info.append(tmp, ignore_index=True)\n",
    "            artists_with_data.add(related_artist['id'])\n",
    "            if artist_count <= artist_queue_limit:\n",
    "                artist_queue.put(related_artist['id'])\n",
    "            artist_count += 1\n",
    "\n",
    "related_artist_info['followers'] = related_artist_info['followers'].astype(int)\n",
    "related_artist_info['popularity'] = related_artist_info['popularity'].astype(int)\n",
    "related_artist_info.to_csv('../data/related_artist_info_2020.csv', index=False)\n",
    "\n",
    "artist_links_file = open(\"../data/artist_links.pickle\", \"wb\")\n",
    "pickle.dump(artist_links, artist_links_file)\n",
    "artist_links_file.close()\n",
    "\n",
    "print('Total number of artists: %d' % len(artists_with_data))"
   ],
   "metadata": {
    "collapsed": false,
    "pycharm": {
     "name": "#%%\n"
    }
   }
  },
  {
   "cell_type": "code",
   "execution_count": 4,
   "outputs": [
    {
     "data": {
      "text/plain": "(19701, 19701)"
     },
     "execution_count": 4,
     "metadata": {},
     "output_type": "execute_result"
    }
   ],
   "source": [
    "artist_links_file = open(\"../data/artist_links.pickle\", \"rb\")\n",
    "artist_links = pickle.load(artist_links_file)\n",
    "artist_links_file.close()\n",
    "\n",
    "artists_2020 = pd.read_csv('../data/artist_info_2020-01-01__2021-01-01.csv')\n",
    "additional_artists = pd.read_csv('../data/related_artist_info_2020.csv')\n",
    "artists_2020 = artists_2020.append(additional_artists)\n",
    "\n",
    "adjacency = np.zeros((artists_2020.shape[0], artists_2020.shape[0]))\n",
    "idToIndexMap = {}\n",
    "\n",
    "for index, row in artists_2020.iterrows():\n",
    "    idToIndexMap[row['artist_id']] = index\n",
    "\n",
    "for artist_id, related_artists in artist_links.items():\n",
    "    artist_index = idToIndexMap[artist_id]\n",
    "    for related_artist in related_artists:\n",
    "        related_artist_index = idToIndexMap[related_artist]\n",
    "        adjacency[artist_index, related_artist_index] = 1\n",
    "\n",
    "adjacency.shape"
   ],
   "metadata": {
    "collapsed": false,
    "pycharm": {
     "name": "#%%\n"
    }
   }
  },
  {
   "cell_type": "markdown",
   "source": [
    "### Convert adjacency matrix to sparse matrix"
   ],
   "metadata": {
    "collapsed": false,
    "pycharm": {
     "name": "#%% md\n"
    }
   }
  },
  {
   "cell_type": "code",
   "execution_count": 5,
   "outputs": [
    {
     "name": "stdout",
     "output_type": "stream",
     "text": [
      "The adjacency matrix has 99685 non-zero elements, this is equivalent to the number of edges\n"
     ]
    }
   ],
   "source": [
    "import scipy.sparse as sparse\n",
    "\n",
    "sparse_adj = sparse.csc_matrix(adjacency)\n",
    "print('The adjacency matrix has %d non-zero elements, this is equivalent to the number of edges' % sparse_adj.nnz)"
   ],
   "metadata": {
    "collapsed": false,
    "pycharm": {
     "name": "#%%\n"
    }
   }
  },
  {
   "cell_type": "markdown",
   "source": [
    "### Since our graph is directed, the degree of a node is actually the sum of its *indegree* and  *outdegree*."
   ],
   "metadata": {
    "collapsed": false,
    "pycharm": {
     "name": "#%% md\n"
    }
   }
  },
  {
   "cell_type": "code",
   "execution_count": 6,
   "outputs": [
    {
     "name": "stdout",
     "output_type": "stream",
     "text": [
      "Minimum degree 0\n",
      "Maximum degree 115\n",
      "Average degree: 10.119791\n",
      "Std of degree: 15.260374. This number is quite high!\n"
     ]
    }
   ],
   "source": [
    "# Add indegree and outdegree\n",
    "degrees = adjacency @ np.ones(adjacency.shape[0]) + np.ones(adjacency.shape[0]).T @ adjacency\n",
    "\n",
    "print('Minimum degree %d' % min(degrees))\n",
    "print('Maximum degree %d' % max(degrees))\n",
    "print('Average degree: %f' % np.mean(degrees))\n",
    "print('Std of degree: %f. This number is quite high!' % np.std(degrees))"
   ],
   "metadata": {
    "collapsed": false,
    "pycharm": {
     "name": "#%%\n"
    }
   }
  },
  {
   "cell_type": "code",
   "execution_count": 7,
   "outputs": [
    {
     "data": {
      "text/plain": "Text(0, 0.5, '#artists having degree = k')"
     },
     "execution_count": 7,
     "metadata": {},
     "output_type": "execute_result"
    },
    {
     "data": {
      "text/plain": "<Figure size 432x288 with 1 Axes>",
      "image/png": "[encoded data removed]"
     },
     "metadata": {
      "needs_background": "light"
     },
     "output_type": "display_data"
    }
   ],
   "source": [
    "from itertools import groupby\n",
    "import matplotlib.pyplot as plt\n",
    "\n",
    "\n",
    "# Util function to return the distribution of values\n",
    "def dist(values):\n",
    "    values = sorted(values)\n",
    "\n",
    "    # First make dist\n",
    "    distribution = [(key, len(list(group))) for key, group in groupby(values)]\n",
    "\n",
    "    return [x[0] for x in distribution], [x[1] for x in distribution]\n",
    "\n",
    "\n",
    "degree_dist_x, degree_dist_y = dist(degrees)\n",
    "\n",
    "plt.plot(degree_dist_x, degree_dist_y)\n",
    "plt.xlabel(\"k\")\n",
    "plt.ylabel(\"#artists having degree = k\")"
   ],
   "metadata": {
    "collapsed": false,
    "pycharm": {
     "name": "#%%\n"
    }
   }
  },
  {
   "cell_type": "markdown",
   "source": [
    "The skewness towards small values makes the chart difficult to read. Let's use a log scale for the y axis."
   ],
   "metadata": {
    "collapsed": false,
    "pycharm": {
     "name": "#%% md\n"
    }
   }
  },
  {
   "cell_type": "code",
   "execution_count": 8,
   "outputs": [
    {
     "data": {
      "text/plain": "Text(0, 0.5, 'log(#artists) having degree = k')"
     },
     "execution_count": 8,
     "metadata": {},
     "output_type": "execute_result"
    },
    {
     "data": {
      "text/plain": "<Figure size 432x288 with 1 Axes>",
      "image/png": "[encoded data removed]"
     },
     "metadata": {
      "needs_background": "light"
     },
     "output_type": "display_data"
    }
   ],
   "source": [
    "plt.plot(degree_dist_x, np.log(degree_dist_y))\n",
    "plt.xlabel(\"k\")\n",
    "plt.ylabel(\"log(#artists) having degree = k\")"
   ],
   "metadata": {
    "collapsed": false,
    "pycharm": {
     "name": "#%%\n"
    }
   }
  },
  {
   "cell_type": "markdown",
   "source": [
    "Now, it's clearer that a non negligeable amount of artists have a relatively higher number of relations than the mean."
   ],
   "metadata": {
    "collapsed": false,
    "pycharm": {
     "name": "#%% md\n"
    }
   }
  },
  {
   "cell_type": "code",
   "execution_count": 9,
   "outputs": [
    {
     "data": {
      "text/plain": "Text(0.5, 1.0, 'Cumulative distribution of degrees')"
     },
     "execution_count": 9,
     "metadata": {},
     "output_type": "execute_result"
    },
    {
     "data": {
      "text/plain": "<Figure size 432x288 with 1 Axes>",
      "image/png": "[encoded data removed]"
     },
     "metadata": {
      "needs_background": "light"
     },
     "output_type": "display_data"
    }
   ],
   "source": [
    "plt.hist(degrees, cumulative=True, density=True, bins='auto', histtype='step')\n",
    "plt.title('Cumulative distribution of degrees')"
   ],
   "metadata": {
    "collapsed": false,
    "pycharm": {
     "name": "#%%\n"
    }
   }
  },
  {
   "cell_type": "markdown",
   "source": [
    "According to the cumulative distribution, more than 20% of the artists have a number of related artists greater than 20.\n",
    "Approximately 10% have more than 40 related artists."
   ],
   "metadata": {
    "collapsed": false,
    "pycharm": {
     "name": "#%% md\n"
    }
   }
  },
  {
   "cell_type": "markdown",
   "source": [
    "### Global density of the graph\n",
    "\n",
    "The density for a graph $G=(V,E)$ is $\\delta(G) = \\frac{2|E|}{|V|(|V|-1)}$. This corresponds to the number of edges divided to the number of possible edges with $|V|$ nodes."
   ],
   "metadata": {
    "collapsed": false,
    "pycharm": {
     "name": "#%% md\n"
    }
   }
  },
  {
   "cell_type": "code",
   "execution_count": 10,
   "outputs": [
    {
     "name": "stdout",
     "output_type": "stream",
     "text": [
      "The density is equal to 0.000257\n"
     ]
    }
   ],
   "source": [
    "density_adj = sparse_adj.nnz / (sparse_adj.shape[0] * (sparse_adj.shape[0] - 1))\n",
    "\n",
    "print('The density is equal to %f' % density_adj)"
   ],
   "metadata": {
    "collapsed": false,
    "pycharm": {
     "name": "#%%\n"
    }
   }
  },
  {
   "cell_type": "markdown",
   "source": [
    "As expected, the density is super low. This seems to be logical given that Spotify works with millions of artists, but also because we had to work with limited data (i.e. we can only fetch a limited number of artists).\n",
    "\n",
    "By picking the artists that appeared in the top 200 charts, we are actually increasing our chances of finding the most \"important\" nodes in the graph of artists."
   ],
   "metadata": {
    "collapsed": false,
    "pycharm": {
     "name": "#%% md\n"
    }
   }
  },
  {
   "cell_type": "markdown",
   "source": [
    "## PageRank\n",
    "### Recommending a related artist based on our (extended) graph\n",
    "Given that we now have a graph that relates artists together, we can try and use PageRank to give a user the top 10 artists that are most likely to please him, given a certain artist he or she likes."
   ],
   "metadata": {
    "collapsed": false,
    "pycharm": {
     "name": "#%% md\n"
    }
   }
  },
  {
   "cell_type": "code",
   "execution_count": 43,
   "outputs": [
    {
     "data": {
      "text/plain": "PageRank(damping_factor=0.85, solver='piteration', n_iter=10, tol=1e-06)"
     },
     "execution_count": 43,
     "metadata": {},
     "output_type": "execute_result"
    }
   ],
   "source": [
    "import sknetwork as skn\n",
    "\n",
    "pr = skn.ranking.PageRank()\n",
    "\n",
    "# User is a big fan of drake\n",
    "drake_row = artists_2020[artists_2020['artist'] == 'Drake']\n",
    "drake_id = list(drake_row['artist_id'].items())[0][1]\n",
    "drake_index = idToIndexMap[drake_id]\n",
    "\n",
    "artist_names = list(artist['artist'] for index, artist in artists_2020.iterrows())\n",
    "pr.fit(adjacency, seeds={drake_index: 1})"
   ],
   "metadata": {
    "collapsed": false,
    "pycharm": {
     "name": "#%%\n"
    }
   }
  },
  {
   "cell_type": "code",
   "execution_count": 64,
   "outputs": [
    {
     "name": "stdout",
     "output_type": "stream",
     "text": [
      "Top 10 artists with highest PageRank score:\n",
      "\n",
      "Becky G - 0.006077\n",
      "Irama - 0.006086\n",
      "Gzuz - 0.006133\n",
      "Peach Tree Rascals - 0.006133\n",
      "Bobby \"Boris\" Pickett - 0.006313\n",
      "Busta Rhymes - 0.006428\n",
      "Jonas Brothers - 0.006501\n",
      "CJ - 0.006556\n",
      "Hayley Williams - 0.006587\n",
      "Drake - 0.177542\n"
     ]
    }
   ],
   "source": [
    "high_pr_artists = [{'name': artist_names[x], 'score': pr.scores_[x]} for x in np.argsort(pr.scores_)[-10:]]\n",
    "print('Top 10 artists with highest PageRank score (with Drake as target):\\n')\n",
    "for v in high_pr_artists:\n",
    "    print('%s - %f' % (v['name'], v['score']))"
   ],
   "metadata": {
    "collapsed": false,
    "pycharm": {
     "name": "#%%\n"
    }
   }
  },
  {
   "cell_type": "markdown",
   "source": [
    "We recognize some of the biggest names in the music industry. Most of the artists are Hip-Hop, Rap, and Pop artists, all genres in which Drake has excelled in over the years."
   ],
   "metadata": {
    "collapsed": false,
    "pycharm": {
     "name": "#%% md\n"
    }
   }
  },
  {
   "cell_type": "markdown",
   "source": [
    "## Clustering to find communities"
   ],
   "metadata": {
    "collapsed": false,
    "pycharm": {
     "name": "#%% md\n"
    }
   }
  },
  {
   "cell_type": "code",
   "execution_count": 80,
   "outputs": [
    {
     "data": {
      "text/plain": "array([ 41,   0,   0, ..., 231, 531, 603], dtype=int64)"
     },
     "execution_count": 80,
     "metadata": {},
     "output_type": "execute_result"
    }
   ],
   "source": [
    "import scipy\n",
    "\n",
    "louvain = skn.clustering.Louvain()\n",
    "# Re-convert to sparse matrix to avoid bug\n",
    "converted_matrix = scipy.sparse.csr_matrix(sparse_adj)\n",
    "louvain.fit(converted_matrix)\n",
    "louvain.labels_"
   ],
   "metadata": {
    "collapsed": false,
    "pycharm": {
     "name": "#%%\n"
    }
   }
  },
  {
   "cell_type": "code",
   "execution_count": 81,
   "outputs": [
    {
     "name": "stdout",
     "output_type": "stream",
     "text": [
      "The number of clusters is 603\n"
     ]
    }
   ],
   "source": [
    "print('The number of clusters is %d' % max(louvain.labels_))"
   ],
   "metadata": {
    "collapsed": false,
    "pycharm": {
     "name": "#%%\n"
    }
   }
  },
  {
   "cell_type": "markdown",
   "source": [
    "Since we have a huge number of clusters, it might not be relevant to compare each and every one of them.\n",
    "However, it may be interesting to have a look at the cluster that contain the most artists and see if we're able to recognize a certain pattern."
   ],
   "metadata": {
    "collapsed": false,
    "pycharm": {
     "name": "#%% md\n"
    }
   }
  },
  {
   "cell_type": "code",
   "execution_count": 93,
   "outputs": [
    {
     "data": {
      "text/plain": "[(19, 368),\n (18, 375),\n (17, 376),\n (16, 391),\n (15, 397),\n (13, 404),\n (14, 404),\n (12, 408),\n (11, 415),\n (10, 437),\n (9, 444),\n (8, 503),\n (7, 523),\n (6, 565),\n (5, 649),\n (4, 738),\n (3, 767),\n (2, 1097),\n (1, 1237),\n (0, 2252)]"
     },
     "execution_count": 93,
     "metadata": {},
     "output_type": "execute_result"
    }
   ],
   "source": [
    "cluster_counts = defaultdict(int)\n",
    "\n",
    "for i in louvain.labels_:\n",
    "    cluster_counts[i] += 1\n",
    "\n",
    "top_20_clusters = sorted(cluster_counts.items(), key=lambda x: x[1])[-20:]\n",
    "top_20_clusters"
   ],
   "metadata": {
    "collapsed": false,
    "pycharm": {
     "name": "#%%\n"
    }
   }
  },
  {
   "cell_type": "markdown",
   "source": [
    "We have found that a large chunk of clusters hold a great amount of artists (300+)!\n",
    "We would like to check if these clusters are genre based. To do this we'll go over each cluster and get the top 3 genres represented."
   ],
   "metadata": {
    "collapsed": false,
    "pycharm": {
     "name": "#%% md\n"
    }
   }
  },
  {
   "cell_type": "code",
   "execution_count": 146,
   "outputs": [
    {
     "name": "stdout",
     "output_type": "stream",
     "text": [
      "Cluster 0:\n",
      "\t⚫ pop (4.000000%)\n",
      "\t⚫ underground hip hop (3.000000%)\n",
      "\t⚫ rap (3.000000%)\n",
      "\n",
      "\n",
      "Cluster 1:\n",
      "\t⚫ adult standards (5.000000%)\n",
      "\t⚫ new wave pop (5.000000%)\n",
      "\t⚫ soft rock (4.000000%)\n",
      "\n",
      "\n",
      "Cluster 2:\n",
      "\t⚫ pop dance (5.000000%)\n",
      "\t⚫ indie pop (4.000000%)\n",
      "\t⚫ edm (4.000000%)\n",
      "\n",
      "\n",
      "Cluster 3:\n",
      "\t⚫ modern rock (5.000000%)\n",
      "\t⚫ stomp and holler (4.000000%)\n",
      "\t⚫ indie poptimism (4.000000%)\n",
      "\n",
      "\n",
      "Cluster 4:\n",
      "\t⚫ classic rock (5.000000%)\n",
      "\t⚫ hard rock (5.000000%)\n",
      "\t⚫ rock (4.000000%)\n",
      "\n",
      "\n",
      "Cluster 5:\n",
      "\t⚫ alternative metal (6.000000%)\n",
      "\t⚫ nu metal (5.000000%)\n",
      "\t⚫ pop punk (4.000000%)\n",
      "\n",
      "\n",
      "Cluster 6:\n",
      "\t⚫ sertanejo pop (14.000000%)\n",
      "\t⚫ forro (9.000000%)\n",
      "\t⚫ sertanejo universitario (9.000000%)\n",
      "\n",
      "\n",
      "Cluster 7:\n",
      "\t⚫ indie pop (5.000000%)\n",
      "\t⚫ otacore (3.000000%)\n",
      "\t⚫ dream smp (3.000000%)\n",
      "\n",
      "\n",
      "Cluster 8:\n",
      "\t⚫ uk hip hop (11.000000%)\n",
      "\t⚫ house (6.000000%)\n",
      "\t⚫ uk drill (6.000000%)\n",
      "\n",
      "\n",
      "Cluster 9:\n",
      "\t⚫ alternative r&b (11.000000%)\n",
      "\t⚫ chill r&b (11.000000%)\n",
      "\t⚫ indie r&b (10.000000%)\n",
      "\n",
      "\n",
      "Cluster 10:\n",
      "\t⚫ traprun (11.000000%)\n",
      "\t⚫ gaming edm (10.000000%)\n",
      "\t⚫ alt z (9.000000%)\n",
      "\n",
      "\n",
      "Cluster 11:\n",
      "\t⚫ country (15.000000%)\n",
      "\t⚫ contemporary country (10.000000%)\n",
      "\t⚫ country road (9.000000%)\n",
      "\n",
      "\n",
      "Cluster 12:\n",
      "\t⚫ gangster rap (10.000000%)\n",
      "\t⚫ rap (9.000000%)\n",
      "\t⚫ hip hop (8.000000%)\n",
      "\n",
      "\n",
      "Cluster 13:\n",
      "\t⚫ german hip hop (33.000000%)\n",
      "\t⚫ german trap (16.000000%)\n",
      "\t⚫ german underground rap (13.000000%)\n",
      "\n",
      "\n",
      "Cluster 14:\n",
      "\t⚫ italian hip hop (19.000000%)\n",
      "\t⚫ italian indie pop (15.000000%)\n",
      "\t⚫ italian adult pop (12.000000%)\n",
      "\n",
      "\n",
      "Cluster 15:\n",
      "\t⚫ urbano espanol (13.000000%)\n",
      "\t⚫ rap espanol (12.000000%)\n",
      "\t⚫ spanish hip hop (10.000000%)\n",
      "\n",
      "\n",
      "Cluster 16:\n",
      "\t⚫ funk carioca (23.000000%)\n",
      "\t⚫ brazilian hip hop (7.000000%)\n",
      "\t⚫ funk ostentacao (7.000000%)\n",
      "\n",
      "\n",
      "Cluster 17:\n",
      "\t⚫ dark trap (11.000000%)\n",
      "\t⚫ social media pop (8.000000%)\n",
      "\t⚫ emo rap (7.000000%)\n",
      "\n",
      "\n",
      "Cluster 18:\n",
      "\t⚫ show tunes (19.000000%)\n",
      "\t⚫ hollywood (16.000000%)\n",
      "\t⚫ broadway (14.000000%)\n",
      "\n",
      "\n",
      "Cluster 19:\n",
      "\t⚫ sad lo-fi (9.000000%)\n",
      "\t⚫ panamanian pop (9.000000%)\n",
      "\t⚫ sad rap (9.000000%)\n",
      "\n",
      "\n"
     ]
    }
   ],
   "source": [
    "from ast import literal_eval\n",
    "\n",
    "def get_genres_from_artist_index(index):\n",
    "    artist_row = artists_2020[artists_2020.index == index]\n",
    "    genres = list(artist_row['genres'].items())\n",
    "    if len(genres) == 0:\n",
    "        return []\n",
    "    genres = genres[0][1]\n",
    "    return literal_eval(genres)\n",
    "\n",
    "cluster_genres = [[] for i in range(20)]\n",
    "\n",
    "for index, label in enumerate(louvain.labels_):\n",
    "    if label > 19: continue\n",
    "    cluster_genres[label].extend(get_genres_from_artist_index(index))\n",
    "\n",
    "def get_top_3_genres(arr):\n",
    "    genres_frequency_map = defaultdict(int)\n",
    "    # Loop through all genres arrays and update dictionary\n",
    "    for genre in arr:\n",
    "        genres_frequency_map[genre] += 1\n",
    "\n",
    "    # Sort genres by descending order of appearances\n",
    "    sorted_genres_frequencies = sorted(genres_frequency_map.items(), key=lambda item: -item[1])\n",
    "\n",
    "    total = len(arr)\n",
    "    return [{'Genre': genre, 'Proportion': round(frequency / total, 2)} for genre, frequency in sorted_genres_frequencies[:3]]\n",
    "\n",
    "def pretty_cluster_display(clabel, genres_dist):\n",
    "    print('Cluster %d:' % clabel)\n",
    "    for obj in genres_dist:\n",
    "        print('\\t⚫ %s (%f%%)' % (obj['Genre'], obj['Proportion'] * 100))\n",
    "    print('\\n')\n",
    "\n",
    "for index, genres_array in enumerate(cluster_genres):\n",
    "    # print('Cluster %d --> ' % index + str(get_top_3_genres(genres_array)))\n",
    "    pretty_cluster_display(index, get_top_3_genres(genres_array))\n"
   ],
   "metadata": {
    "collapsed": false,
    "pycharm": {
     "name": "#%%\n"
    }
   }
  },
  {
   "cell_type": "markdown",
   "source": [
    "Although not all the clusters have definite genres, we can definitely spot niches:\n",
    "\n",
    "Cluster 0: Trendy rap and hip hop songs\n",
    "Cluster 4: Hardcore rock fans\n",
    "Cluster 5: Metal heads\n",
    "Cluster 6: Some kind of Portuguese Music\n",
    "Cluster 8: UK hip hop and rap\n",
    "Cluster 9: R & B\n",
    "Cluster 10: Trap and Gaming Music\n",
    "Cluster 11: Country Music\n",
    "Cluster 12: Rap (gangster oriented)\n",
    "Cluster 13: German hip hop and rap\n",
    "Cluster 14: Italian pop and hip hop\n",
    "Cluster 15: Spanish pop and hip hop\n",
    "Cluster 16: Brazilian funk"
   ],
   "metadata": {
    "collapsed": false,
    "pycharm": {
     "name": "#%% md\n"
    }
   }
  },
  {
   "cell_type": "code",
   "execution_count": null,
   "outputs": [],
   "source": [],
   "metadata": {
    "collapsed": false,
    "pycharm": {
     "name": "#%%\n"
    }
   }
  }
 ],
 "metadata": {
  "kernelspec": {
   "display_name": "Python 3",
   "language": "python",
   "name": "python3"
  },
  "language_info": {
   "codemirror_mode": {
    "name": "ipython",
    "version": 2
   },
   "file_extension": ".py",
   "mimetype": "text/x-python",
   "name": "python",
   "nbconvert_exporter": "python",
   "pygments_lexer": "ipython2",
   "version": "2.7.6"
  }
 },
 "nbformat": 4,
 "nbformat_minor": 0
}